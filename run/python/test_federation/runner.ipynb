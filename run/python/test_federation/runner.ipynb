{
 "cells": [
  {
   "cell_type": "markdown",
   "id": "77ea5632",
   "metadata": {},
   "source": [
    "CoSim test configuration and runner"
   ]
  },
  {
   "cell_type": "code",
   "execution_count": 2,
   "id": "0ac5cc14-f6ca-479e-8b90-c8a159868230",
   "metadata": {},
   "outputs": [
    {
     "name": "stdout",
     "output_type": "stream",
     "text": [
      "<runner.Runner object at 0x7f92611c2ad0>\n"
     ]
    },
    {
     "name": "stderr",
     "output_type": "stream",
     "text": [
      " Network test_federation_cu_net  Creating\n",
      " Network test_federation_cu_net  Created\n",
      " Container test_federation-Battery-1  Creating\n",
      " Container test_federation-EVehicle-1  Creating\n",
      " Container test_federation-cu_logger-1  Creating\n",
      " Container test_federation-helics-1  Creating\n",
      " Container test_federation-EVehicle-1  Created\n",
      " Container test_federation-Battery-1  Created\n",
      " Container test_federation-helics-1  Created\n",
      " Container test_federation-cu_logger-1  Created\n",
      "Battery-1    | /home/worker/venv/lib/python3.10/site-packages/helics/capi.py:2459: UserWarning: Unknown publication type `int64`. Defaulting to string.\n",
      "Battery-1    |   warnings.warn(\"Unknown publication type `{}`. Defaulting to string.\".format(self.publication_type))\n",
      "cu_logger-1  | /home/worker/venv/lib/python3.10/site-packages/helics/capi.py:2459: UserWarning: Unknown publication type `int64`. Defaulting to string.\n",
      "cu_logger-1  |   warnings.warn(\"Unknown publication type `{}`. Defaulting to string.\".format(self.publication_type))\n",
      "Battery-1    | /home/worker/venv/lib/python3.10/site-packages/helics/capi.py:2459: UserWarning: Unknown publication type `bool`. Defaulting to string.\n",
      "Battery-1    |   warnings.warn(\"Unknown publication type `{}`. Defaulting to string.\".format(self.publication_type))\n",
      "cu_logger-1  | /home/worker/venv/lib/python3.10/site-packages/helics/capi.py:2459: UserWarning: Unknown publication type `bool`. Defaulting to string.\n",
      "cu_logger-1  |   warnings.warn(\"Unknown publication type `{}`. Defaulting to string.\".format(self.publication_type))\n",
      "Battery-1    | /home/worker/venv/lib/python3.10/site-packages/helics/capi.py:2459: UserWarning: Unknown publication type `double_vector`. Defaulting to string.\n",
      "Battery-1    |   warnings.warn(\"Unknown publication type `{}`. Defaulting to string.\".format(self.publication_type))\n",
      "cu_logger-1  | /home/worker/venv/lib/python3.10/site-packages/helics/capi.py:2459: UserWarning: Unknown publication type `double_vector`. Defaulting to string.\n",
      "cu_logger-1  |   warnings.warn(\"Unknown publication type `{}`. Defaulting to string.\".format(self.publication_type))\n",
      "EVehicle-1   | /home/worker/venv/lib/python3.10/site-packages/helics/capi.py:2459: UserWarning: Unknown publication type `int64`. Defaulting to string.\n",
      "EVehicle-1   |   warnings.warn(\"Unknown publication type `{}`. Defaulting to string.\".format(self.publication_type))\n",
      "EVehicle-1   | /home/worker/venv/lib/python3.10/site-packages/helics/capi.py:2459: UserWarning: Unknown publication type `bool`. Defaulting to string.\n",
      "EVehicle-1   |   warnings.warn(\"Unknown publication type `{}`. Defaulting to string.\".format(self.publication_type))\n",
      "EVehicle-1   | /home/worker/venv/lib/python3.10/site-packages/helics/capi.py:2459: UserWarning: Unknown publication type `double_vector`. Defaulting to string.\n",
      "EVehicle-1   |   warnings.warn(\"Unknown publication type `{}`. Defaulting to string.\".format(self.publication_type))\n",
      " Container test_federation-Battery-1  Stopping\n",
      " Container test_federation-EVehicle-1  Stopping\n",
      " Container test_federation-cu_logger-1  Stopping\n",
      " Container test_federation-helics-1  Stopping\n",
      " Container test_federation-EVehicle-1  Stopped\n",
      " Container test_federation-EVehicle-1  Removing\n",
      " Container test_federation-Battery-1  Stopped\n",
      " Container test_federation-Battery-1  Removing\n",
      " Container test_federation-cu_logger-1  Stopped\n",
      " Container test_federation-cu_logger-1  Removing\n",
      " Container test_federation-helics-1  Stopped\n",
      " Container test_federation-helics-1  Removing\n",
      " Container test_federation-EVehicle-1  Removed\n",
      " Container test_federation-cu_logger-1  Removed\n",
      " Container test_federation-helics-1  Removed\n",
      " Container test_federation-Battery-1  Removed\n",
      " Network test_federation_cu_net  Removing\n",
      " Network test_federation_cu_net  Removed\n"
     ]
    }
   ],
   "source": [
    "import cosim_toolbox.metadataDB as mDB\n",
    "import runner as myr\n",
    "\n",
    "_scenario_name = \"test_Scenario\"\n",
    "_schema_name = \"test_Schema\"\n",
    "_federation_name = \"test_Federation\"\n",
    "r = myr.Runner(_scenario_name, _schema_name, _federation_name, True)\n",
    "print(r)\n",
    "r.define_scenario()\n",
    "mDB.Docker.define_yaml(r.scenario_name)\n",
    "mDB.Docker.run_remote_yaml(r.scenario_name)\n"
   ]
  },
  {
   "cell_type": "code",
   "execution_count": null,
   "id": "05b177af-6416-4d36-8ad6-07860acd7e87",
   "metadata": {},
   "outputs": [],
   "source": [
    "import matplotlib.pyplot as plt\n",
    "from os import environ\n",
    "import psycopg2\n",
    "\n",
    "import cosim_toolbox.dataLogger as dL\n",
    "\n",
    "dl = dL.DataLogger()\n",
    "dl.open_database_connections()\n",
    "\n",
    "_scenario_name = \"test_Scenario\"\n",
    "_federate_name = \"Battery\"\n",
    "_data_name = \"Battery/current\"\n",
    "\n",
    "df = dl.query_scenario_federate_times(300, None, _scenario_name, _federate_name, _data_name, 'hdt_double')\n",
    "df = df.sort_values(\"time\")\n",
    "df.plot.line(x='time', y='data_value')\n"
   ]
  },
  {
   "cell_type": "code",
   "execution_count": null,
   "id": "a52fadd4-8e3f-47ba-ab11-77275ed85ba5",
   "metadata": {},
   "outputs": [],
   "source": [
    "pip list"
   ]
  },
  {
   "cell_type": "code",
   "execution_count": null,
   "id": "a9e80917-2f27-4c08-a7fe-149a41f136fe",
   "metadata": {},
   "outputs": [],
   "source": [
    "conda list"
   ]
  }
 ],
 "metadata": {
  "kernelspec": {
   "display_name": "Python 3 (ipykernel)",
   "language": "python",
   "name": "python3"
  },
  "language_info": {
   "codemirror_mode": {
    "name": "ipython",
    "version": 3
   },
   "file_extension": ".py",
   "mimetype": "text/x-python",
   "name": "python",
   "nbconvert_exporter": "python",
   "pygments_lexer": "ipython3",
   "version": "3.10.11"
  }
 },
 "nbformat": 4,
 "nbformat_minor": 5
}
