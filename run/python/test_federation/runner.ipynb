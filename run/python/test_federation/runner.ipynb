{
 "cells": [
  {
   "cell_type": "markdown",
   "id": "77ea5632",
   "metadata": {},
   "source": [
    "CoSim test configuration and runner"
   ]
  },
  {
   "cell_type": "code",
   "execution_count": 1,
   "id": "0ac5cc14-f6ca-479e-8b90-c8a159868230",
   "metadata": {},
   "outputs": [
    {
     "name": "stdout",
     "output_type": "stream",
     "text": [
      "<runner.Runner object at 0x7faf4c41b910>\n"
     ]
    },
    {
     "name": "stderr",
     "output_type": "stream",
     "text": [
      "Creating network \"test_federation_cu_net\" with driver \"bridge\"\n",
      "Creating test_federation_helics_1 ... \n",
      "Creating test_federation_EVehicle_1 ... \n",
      "Creating test_federation_Battery_1  ... \n",
      "Creating test_federation_cu_logger_1 ... \n",
      "Creating test_federation_helics_1    ... done\n",
      "Creating test_federation_EVehicle_1  ... done\n",
      "Creating test_federation_Battery_1   ... done\n",
      "Creating test_federation_cu_logger_1 ... done\n",
      "Removing test_federation_cu_logger_1 ... \n",
      "Removing test_federation_EVehicle_1  ... \n",
      "Removing test_federation_Battery_1   ... \n",
      "Removing test_federation_helics_1    ... \n",
      "Removing test_federation_EVehicle_1  ... done\n",
      "Removing test_federation_cu_logger_1 ... done\n",
      "Removing test_federation_helics_1    ... done\n",
      "Removing test_federation_Battery_1   ... done\n",
      "Removing network test_federation_cu_net\n"
     ]
    }
   ],
   "source": [
    "import cosim_toolbox.metadataDB as mDB\n",
    "import runner as myr\n",
    "\n",
    "_scenario_name = \"test_MyTest\"\n",
    "_schema_name = \"test_MySchema2\"\n",
    "_federation_name = \"test_MyFederation\"\n",
    "r = myr.Runner(_scenario_name, _schema_name, _federation_name, True)\n",
    "print(r)\n",
    "r.define_scenario()\n",
    "mDB.Docker.define_yaml(r.scenario_name)\n",
    "mDB.Docker.run_remote_yaml(r.scenario_name)\n",
    "\n"
   ]
  },
  {
   "cell_type": "code",
   "execution_count": 2,
   "id": "05b177af-6416-4d36-8ad6-07860acd7e87",
   "metadata": {},
   "outputs": [
    {
     "name": "stdout",
     "output_type": "stream",
     "text": [
      "{'host': 'gage.pnl.gov', 'dbname': 'copper', 'user': 'postgres', 'password': 'postgres', 'port': '5432'}\n"
     ]
    },
    {
     "data": {
      "image/png": "[encoded data removed]",
      "text/plain": [
       "<Figure size 640x480 with 1 Axes>"
      ]
     },
     "metadata": {},
     "output_type": "display_data"
    }
   ],
   "source": [
    "import matplotlib.pyplot as plt\n",
    "from os import environ\n",
    "from math import log\n",
    "import psycopg2\n",
    "\n",
    "def open_logger():\n",
    "    connection = {\n",
    "        \"host\": environ.get(\"POSTGRES_HOST\", \"localhost\"),\n",
    "        \"dbname\": environ.get(\"POSTGRES_DB\", \"copper\"),\n",
    "        \"user\": environ.get(\"POSTGRES_USER\", \"postgres\"),\n",
    "        \"password\": environ.get(\"POSTGRES_PASSWORD\", \"postgres\"),\n",
    "        \"port\": environ.get(\"POSTGRES_PORT\", 5432)\n",
    "    }\n",
    "    print(connection)\n",
    "    try:\n",
    "        return psycopg2.connect(**connection)\n",
    "    except:\n",
    "        return\n",
    "\n",
    "_federate_name = \"DataLogger\"   # TODO: fix the proper federated name\n",
    "_scenario_name = \"test_MyTest\"\n",
    "_schema_name = \"test_MySchema2\"\n",
    "_federation_name = \"test_MyFederation\"\n",
    "\n",
    "names = [\"Battery\", \"EVehicle\"]\n",
    "items = [\"current\", \"voltage\"]\n",
    "_data_name = names[0] + \"/\" + items[0]\n",
    "\n",
    "qry = f\"SELECT time, data_value FROM {_schema_name}.HDT_DOUBLE WHERE \" \\\n",
    "      f\"time > 30 AND \" \\\n",
    "      f\"scenario = '{_scenario_name}' AND \" \\\n",
    "      f\"federate = '{_federate_name}' AND \" \\\n",
    "      f\"data_name = '{names[0]}/{items[0]}';\"\n",
    "\n",
    "conn = open_logger()\n",
    "cur = conn.cursor()\n",
    "cur.execute(qry)\n",
    "records = cur.fetchall()\n",
    "fig, ax = plt.subplots()\n",
    "ax.scatter(*zip(*records))\n",
    "\n",
    "cur.close()"
   ]
  },
  {
   "cell_type": "code",
   "execution_count": null,
   "id": "a52fadd4-8e3f-47ba-ab11-77275ed85ba5",
   "metadata": {},
   "outputs": [],
   "source": [
    "pip list"
   ]
  },
  {
   "cell_type": "code",
   "execution_count": null,
   "id": "a9e80917-2f27-4c08-a7fe-149a41f136fe",
   "metadata": {},
   "outputs": [],
   "source": [
    "conda list"
   ]
  }
 ],
 "metadata": {
  "kernelspec": {
   "display_name": "Python 3 (ipykernel)",
   "language": "python",
   "name": "python3"
  },
  "language_info": {
   "codemirror_mode": {
    "name": "ipython",
    "version": 3
   },
   "file_extension": ".py",
   "mimetype": "text/x-python",
   "name": "python",
   "nbconvert_exporter": "python",
   "pygments_lexer": "ipython3",
   "version": "3.8.13"
  }
 },
 "nbformat": 4,
 "nbformat_minor": 5
}
