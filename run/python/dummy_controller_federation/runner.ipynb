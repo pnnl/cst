{
 "cells": [
  {
   "cell_type": "code",
   "execution_count": null,
   "metadata": {},
   "outputs": [],
   "source": [
    "import cosim_toolbox.metadataDB as mDB\n",
    "import runner as myr\n",
    "\n",
    "_scenario_name = \"test_DummyController\"\n",
    "_schema_name = \"test_DummyControllerSchema\"\n",
    "_federation_name = \"test_ControllerMarketFederation\"\n",
    "r = myr.Runner(_scenario_name, _schema_name, _federation_name, True)\n",
    "print(r)\n",
    "r.define_scenario()\n",
    "mDB.Docker.define_yaml(r.scenario_name)\n",
    "mDB.Docker.run_remote_yaml(r.scenario_name)"
   ]
  },
  {
   "cell_type": "code",
   "execution_count": null,
   "metadata": {},
   "outputs": [],
   "source": [
    "import matplotlib.pyplot as plt\n",
    "from os import environ\n",
    "import psycopg2\n",
    "\n",
    "import cosim_toolbox.dataLogger as dL\n",
    "\n",
    "dl = dL.DataLogger()\n",
    "dl.open_database_connections()\n",
    "\n",
    "_scenario_name = \"test_DummyController\"\n",
    "_federate_name = \"dummy_controller_federate\"\n",
    "_data_name = \"Controller/DAM_bid\"\n",
    "\n",
    "df = dl.query_scenario_federate_times(300, None, _scenario_name, _federate_name, _data_name, 'hdt_double')\n",
    "df = df.sort_values(\"time\")\n",
    "df.plot.line(x='time', y='data_value')"
   ]
  },
  {
   "cell_type": "code",
   "execution_count": null,
   "metadata": {},
   "outputs": [],
   "source": [
    "pip list"
   ]
  },
  {
   "cell_type": "code",
   "execution_count": null,
   "metadata": {},
   "outputs": [],
   "source": [
    "conda list"
   ]
  }
 ],
 "metadata": {
  "language_info": {
   "name": "python"
  }
 },
 "nbformat": 4,
 "nbformat_minor": 2
}
