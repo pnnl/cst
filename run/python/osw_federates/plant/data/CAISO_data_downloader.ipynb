{
 "cells": [
  {
   "cell_type": "code",
   "execution_count": 1,
   "id": "67abfc76",
   "metadata": {},
   "outputs": [],
   "source": [
    "import gridstatus\n",
    "import pandas as pd\n",
    "import plotly.express as px"
   ]
  },
  {
   "cell_type": "code",
   "execution_count": 3,
   "id": "e5e7d33a",
   "metadata": {},
   "outputs": [],
   "source": [
    "caiso = gridstatus.CAISO()\n",
    "caiso.get_pnodes().to_csv('CAISO_PNODE_ID.csv', index=False)\n"
   ]
  },
  {
   "cell_type": "code",
   "execution_count": 6,
   "id": "8611dab7",
   "metadata": {},
   "outputs": [],
   "source": [
    "start = pd.Timestamp(\"Jan 1, 2023\").normalize()\n",
    "end = pd.Timestamp(\"Jan 1, 2024\").normalize()\n",
    "\n",
    "PNODEID = \"COTWDPGE_1_N024\"\n",
    "# df = caiso.get_as_prices(start=\"Jan 1, 2019\", end=\"Jan 1, 2020\")\n"
   ]
  },
  {
   "cell_type": "code",
   "execution_count": 7,
   "id": "18d4cae2",
   "metadata": {},
   "outputs": [
    {
     "name": "stderr",
     "output_type": "stream",
     "text": [
      " 33%|███████████████████████████████████████████████████████████████████████                                                                                                                                              | 4/12 [01:05<01:56, 14.55s/it]"
     ]
    },
    {
     "name": "stdout",
     "output_type": "stream",
     "text": [
      "No data for 2023-04-04 01:00:00-07:00 to 2023-05-05 01:00:00-07:00\n",
      "Error: 'MW'\n",
      "Args: {'self': <gridstatus.caiso.CAISO object at 0x112cbfe30>, 'date': Timestamp('2023-04-04 01:00:00-0700', tz='US/Pacific'), 'market': <Markets.DAY_AHEAD_HOURLY: 'DAY_AHEAD_HOURLY'>, 'locations': ['COTWDPGE_1_N024'], 'sleep': 5, 'end': Timestamp('2023-05-05 01:00:00-0700', tz='US/Pacific')}\n",
      "\n"
     ]
    },
    {
     "name": "stderr",
     "output_type": "stream",
     "text": [
      "\r",
      " 42%|████████████████████████████████████████████████████████████████████████████████████████▊                                                                                                                            | 5/12 [01:11<01:18, 11.17s/it]"
     ]
    },
    {
     "name": "stdout",
     "output_type": "stream",
     "text": [
      "No data for 2023-05-05 01:00:00-07:00 to 2023-06-05 01:00:00-07:00\n",
      "Error: 'MW'\n",
      "Args: {'self': <gridstatus.caiso.CAISO object at 0x112cbfe30>, 'date': Timestamp('2023-05-05 01:00:00-0700', tz='US/Pacific'), 'market': <Markets.DAY_AHEAD_HOURLY: 'DAY_AHEAD_HOURLY'>, 'locations': ['COTWDPGE_1_N024'], 'sleep': 5, 'end': Timestamp('2023-06-05 01:00:00-0700', tz='US/Pacific')}\n",
      "\n"
     ]
    },
    {
     "name": "stderr",
     "output_type": "stream",
     "text": [
      "\r",
      " 50%|██████████████████████████████████████████████████████████████████████████████████████████████████████████▌                                                                                                          | 6/12 [01:16<00:54,  9.14s/it]"
     ]
    },
    {
     "name": "stdout",
     "output_type": "stream",
     "text": [
      "No data for 2023-06-05 01:00:00-07:00 to 2023-07-06 01:00:00-07:00\n",
      "Error: 'MW'\n",
      "Args: {'self': <gridstatus.caiso.CAISO object at 0x112cbfe30>, 'date': Timestamp('2023-06-05 01:00:00-0700', tz='US/Pacific'), 'market': <Markets.DAY_AHEAD_HOURLY: 'DAY_AHEAD_HOURLY'>, 'locations': ['COTWDPGE_1_N024'], 'sleep': 5, 'end': Timestamp('2023-07-06 01:00:00-0700', tz='US/Pacific')}\n",
      "\n"
     ]
    },
    {
     "name": "stderr",
     "output_type": "stream",
     "text": [
      "\r",
      " 58%|████████████████████████████████████████████████████████████████████████████████████████████████████████████████████████████▎                                                                                        | 7/12 [01:21<00:39,  7.84s/it]"
     ]
    },
    {
     "name": "stdout",
     "output_type": "stream",
     "text": [
      "No data for 2023-07-06 01:00:00-07:00 to 2023-08-06 01:00:00-07:00\n",
      "Error: 'MW'\n",
      "Args: {'self': <gridstatus.caiso.CAISO object at 0x112cbfe30>, 'date': Timestamp('2023-07-06 01:00:00-0700', tz='US/Pacific'), 'market': <Markets.DAY_AHEAD_HOURLY: 'DAY_AHEAD_HOURLY'>, 'locations': ['COTWDPGE_1_N024'], 'sleep': 5, 'end': Timestamp('2023-08-06 01:00:00-0700', tz='US/Pacific')}\n",
      "\n"
     ]
    },
    {
     "name": "stderr",
     "output_type": "stream",
     "text": [
      "\r",
      " 67%|██████████████████████████████████████████████████████████████████████████████████████████████████████████████████████████████████████████████                                                                       | 8/12 [01:26<00:27,  7.00s/it]"
     ]
    },
    {
     "name": "stdout",
     "output_type": "stream",
     "text": [
      "No data for 2023-08-06 01:00:00-07:00 to 2023-09-06 01:00:00-07:00\n",
      "Error: 'MW'\n",
      "Args: {'self': <gridstatus.caiso.CAISO object at 0x112cbfe30>, 'date': Timestamp('2023-08-06 01:00:00-0700', tz='US/Pacific'), 'market': <Markets.DAY_AHEAD_HOURLY: 'DAY_AHEAD_HOURLY'>, 'locations': ['COTWDPGE_1_N024'], 'sleep': 5, 'end': Timestamp('2023-09-06 01:00:00-0700', tz='US/Pacific')}\n",
      "\n"
     ]
    },
    {
     "name": "stderr",
     "output_type": "stream",
     "text": [
      "\r",
      " 75%|███████████████████████████████████████████████████████████████████████████████████████████████████████████████████████████████████████████████████████████████▊                                                     | 9/12 [01:31<00:19,  6.43s/it]"
     ]
    },
    {
     "name": "stdout",
     "output_type": "stream",
     "text": [
      "No data for 2023-09-06 01:00:00-07:00 to 2023-10-07 01:00:00-07:00\n",
      "Error: 'MW'\n",
      "Args: {'self': <gridstatus.caiso.CAISO object at 0x112cbfe30>, 'date': Timestamp('2023-09-06 01:00:00-0700', tz='US/Pacific'), 'market': <Markets.DAY_AHEAD_HOURLY: 'DAY_AHEAD_HOURLY'>, 'locations': ['COTWDPGE_1_N024'], 'sleep': 5, 'end': Timestamp('2023-10-07 01:00:00-0700', tz='US/Pacific')}\n",
      "\n"
     ]
    },
    {
     "name": "stderr",
     "output_type": "stream",
     "text": [
      "100%|████████████████████████████████████████████████████████████████████████████████████████████████████████████████████████████████████████████████████████████████████████████████████████████████████████████████████| 12/12 [02:30<00:00, 12.53s/it]"
     ]
    },
    {
     "name": "stdout",
     "output_type": "stream",
     "text": [
      "Errors that occurred while getting data:\n",
      "[{'date': Timestamp('2023-04-04 01:00:00-0700', tz='US/Pacific'),\n",
      "  'end': Timestamp('2023-05-05 01:00:00-0700', tz='US/Pacific'),\n",
      "  'locations': ['COTWDPGE_1_N024'],\n",
      "  'market': <Markets.DAY_AHEAD_HOURLY: 'DAY_AHEAD_HOURLY'>,\n",
      "  'self': <gridstatus.caiso.CAISO object at 0x112cbfe30>,\n",
      "  'sleep': 5},\n",
      " {'date': Timestamp('2023-05-05 01:00:00-0700', tz='US/Pacific'),\n",
      "  'end': Timestamp('2023-06-05 01:00:00-0700', tz='US/Pacific'),\n",
      "  'locations': ['COTWDPGE_1_N024'],\n",
      "  'market': <Markets.DAY_AHEAD_HOURLY: 'DAY_AHEAD_HOURLY'>,\n",
      "  'self': <gridstatus.caiso.CAISO object at 0x112cbfe30>,\n",
      "  'sleep': 5},\n",
      " {'date': Timestamp('2023-06-05 01:00:00-0700', tz='US/Pacific'),\n",
      "  'end': Timestamp('2023-07-06 01:00:00-0700', tz='US/Pacific'),\n",
      "  'locations': ['COTWDPGE_1_N024'],\n",
      "  'market': <Markets.DAY_AHEAD_HOURLY: 'DAY_AHEAD_HOURLY'>,\n",
      "  'self': <gridstatus.caiso.CAISO object at 0x112cbfe30>,\n",
      "  'sleep': 5},\n",
      " {'date': Timestamp('2023-07-06 01:00:00-0700', tz='US/Pacific'),\n",
      "  'end': Timestamp('2023-08-06 01:00:00-0700', tz='US/Pacific'),\n",
      "  'locations': ['COTWDPGE_1_N024'],\n",
      "  'market': <Markets.DAY_AHEAD_HOURLY: 'DAY_AHEAD_HOURLY'>,\n",
      "  'self': <gridstatus.caiso.CAISO object at 0x112cbfe30>,\n",
      "  'sleep': 5},\n",
      " {'date': Timestamp('2023-08-06 01:00:00-0700', tz='US/Pacific'),\n",
      "  'end': Timestamp('2023-09-06 01:00:00-0700', tz='US/Pacific'),\n",
      "  'locations': ['COTWDPGE_1_N024'],\n",
      "  'market': <Markets.DAY_AHEAD_HOURLY: 'DAY_AHEAD_HOURLY'>,\n",
      "  'self': <gridstatus.caiso.CAISO object at 0x112cbfe30>,\n",
      "  'sleep': 5},\n",
      " {'date': Timestamp('2023-09-06 01:00:00-0700', tz='US/Pacific'),\n",
      "  'end': Timestamp('2023-10-07 01:00:00-0700', tz='US/Pacific'),\n",
      "  'locations': ['COTWDPGE_1_N024'],\n",
      "  'market': <Markets.DAY_AHEAD_HOURLY: 'DAY_AHEAD_HOURLY'>,\n",
      "  'self': <gridstatus.caiso.CAISO object at 0x112cbfe30>,\n",
      "  'sleep': 5}]\n"
     ]
    },
    {
     "name": "stderr",
     "output_type": "stream",
     "text": [
      "\n"
     ]
    }
   ],
   "source": [
    "# locations = [\"TH_NP15_GEN-APND\", \"TH_SP15_GEN-APND\", \"TH_ZP26_GEN-APND\"]\n",
    "locations = [PNODEID]\n",
    "DAlmp_df = caiso.get_lmp(\n",
    "    start=start, end=end, market=\"DAY_AHEAD_HOURLY\", locations=locations, sleep=5\n",
    ")\n",
    "\n",
    "\n"
   ]
  },
  {
   "cell_type": "code",
   "execution_count": null,
   "id": "620b9e57",
   "metadata": {},
   "outputs": [],
   "source": [
    "RT15lmp_df = caiso.get_lmp(\n",
    "    start=start, end=end, market=\"REAL_TIME_15_MIN\", locations=locations, sleep=5\n",
    ")\n",
    "\n",
    "RT05lmp_df = caiso.get_lmp(\n",
    "    start=start, end=end, market=\"REAL_TIME_5_MIN\", locations=locations, sleep=5\n",
    ")"
   ]
  },
  {
   "cell_type": "code",
   "execution_count": null,
   "id": "52cfde25",
   "metadata": {},
   "outputs": [],
   "source": [
    "df = iso.get_as_prices(date=\"Oct 15, 2010\")\n"
   ]
  },
  {
   "cell_type": "code",
   "execution_count": null,
   "id": "bb226b9b",
   "metadata": {},
   "outputs": [],
   "source": [
    "iso = gridstatus.CAISO()\n",
    "\n",
    "df = iso.get_lmp(\n",
    "    date=\"Jan 1, 2024\",  # you can change to desired date\n",
    "    market=\"DAY_AHEAD_HOURLY\",\n",
    "    locations=[\n",
    "        \"TH_NP15_GEN-APND\",\n",
    "        \"TH_SP15_GEN-APND\",\n",
    "        \"TH_ZP26_GEN-APND\",\n",
    "    ],  # you can change to desired locations\n",
    ")\n",
    "print(df)"
   ]
  },
  {
   "cell_type": "code",
   "execution_count": null,
   "id": "0dc4469f",
   "metadata": {},
   "outputs": [],
   "source": [
    "start = pd.Timestamp(\"Jan 1, 2024\").normalize()\n",
    "end = pd.Timestamp.now().normalize()\n",
    "\n",
    "locations = [\"TH_NP15_GEN-APND\", \"TH_SP15_GEN-APND\", \"TH_ZP26_GEN-APND\"]\n",
    "\n",
    "lmp_df = caiso.get_lmp(\n",
    "    start=start, end=end, market=\"DAY_AHEAD_HOURLY\", locations=locations, sleep=5\n",
    ")"
   ]
  },
  {
   "cell_type": "code",
   "execution_count": null,
   "id": "45e0ea4e",
   "metadata": {},
   "outputs": [],
   "source": [
    "caiso.markets\n"
   ]
  },
  {
   "cell_type": "code",
   "execution_count": null,
   "id": "83aa0f2f",
   "metadata": {},
   "outputs": [],
   "source": [
    "print(lmp_df)\n"
   ]
  },
  {
   "cell_type": "code",
   "execution_count": null,
   "id": "733021eb",
   "metadata": {},
   "outputs": [],
   "source": [
    "print(df)\n",
    "df.to_csv('CAISO_AS_price_2022.csv', index=False)"
   ]
  }
 ],
 "metadata": {
  "@webio": {
   "lastCommId": null,
   "lastKernelId": null
  },
  "kernelspec": {
   "display_name": "gridstenv",
   "language": "python",
   "name": "gridstenv"
  },
  "language_info": {
   "codemirror_mode": {
    "name": "ipython",
    "version": 3
   },
   "file_extension": ".py",
   "mimetype": "text/x-python",
   "name": "python",
   "nbconvert_exporter": "python",
   "pygments_lexer": "ipython3",
   "version": "3.12.4"
  }
 },
 "nbformat": 4,
 "nbformat_minor": 5
}
